{
 "cells": [
  {
   "cell_type": "code",
   "execution_count": 1,
   "metadata": {},
   "outputs": [
    {
     "name": "stdout",
     "output_type": "stream",
     "text": [
      "Requirement already up-to-date: seaborn in c:\\users\\misse\\anaconda3\\lib\\site-packages (0.11.2)\n",
      "Requirement already satisfied, skipping upgrade: matplotlib>=2.2 in c:\\users\\misse\\anaconda3\\lib\\site-packages (from seaborn) (3.2.2)\n",
      "Requirement already satisfied, skipping upgrade: numpy>=1.15 in c:\\users\\misse\\anaconda3\\lib\\site-packages (from seaborn) (1.19.5)\n",
      "Requirement already satisfied, skipping upgrade: scipy>=1.0 in c:\\users\\misse\\anaconda3\\lib\\site-packages (from seaborn) (1.5.0)\n",
      "Requirement already satisfied, skipping upgrade: pandas>=0.23 in c:\\users\\misse\\anaconda3\\lib\\site-packages (from seaborn) (1.0.5)\n",
      "Requirement already satisfied, skipping upgrade: python-dateutil>=2.1 in c:\\users\\misse\\anaconda3\\lib\\site-packages (from matplotlib>=2.2->seaborn) (2.8.1)\n",
      "Requirement already satisfied, skipping upgrade: cycler>=0.10 in c:\\users\\misse\\anaconda3\\lib\\site-packages (from matplotlib>=2.2->seaborn) (0.10.0)\n",
      "Requirement already satisfied, skipping upgrade: pyparsing!=2.0.4,!=2.1.2,!=2.1.6,>=2.0.1 in c:\\users\\misse\\anaconda3\\lib\\site-packages (from matplotlib>=2.2->seaborn) (2.4.7)\n",
      "Requirement already satisfied, skipping upgrade: kiwisolver>=1.0.1 in c:\\users\\misse\\anaconda3\\lib\\site-packages (from matplotlib>=2.2->seaborn) (1.2.0)\n",
      "Requirement already satisfied, skipping upgrade: pytz>=2017.2 in c:\\users\\misse\\anaconda3\\lib\\site-packages (from pandas>=0.23->seaborn) (2020.1)\n",
      "Requirement already satisfied, skipping upgrade: six>=1.5 in c:\\users\\misse\\anaconda3\\lib\\site-packages (from python-dateutil>=2.1->matplotlib>=2.2->seaborn) (1.15.0)\n"
     ]
    }
   ],
   "source": [
    "!pip install seaborn --upgrade"
   ]
  },
  {
   "cell_type": "code",
   "execution_count": 51,
   "metadata": {},
   "outputs": [],
   "source": [
    "import pandas as pd\n",
    "import numpy as np\n",
    "from numpy import mean\n",
    "from numpy import std\n",
    "from sklearn.neighbors import LocalOutlierFactor\n",
    "from sklearn.impute import SimpleImputer\n",
    "from matplotlib import pyplot as plt\n",
    "from numpy import unique\n",
    "import seaborn as sn\n",
    "import statistics as st"
   ]
  },
  {
   "cell_type": "markdown",
   "metadata": {},
   "source": [
    "# Hotel Booking Data\n",
    "\n",
    "In this project, the objective is to perform data cleaning on the hotel booking data. Data cleaning is a process to detect, correct or remove inaccurate records from the dataset, this will insure a quality data ready for analysis. These are the various steps we will follow:\n",
    "\n",
    "1) Find dirt\n",
    "\n",
    "2) Scrub the dirt\n",
    "\n",
    "3) Rinse and repeat 1 and 2"
   ]
  },
  {
   "cell_type": "markdown",
   "metadata": {},
   "source": [
    "## Loading data"
   ]
  },
  {
   "cell_type": "code",
   "execution_count": 52,
   "metadata": {},
   "outputs": [
    {
     "data": {
      "text/html": [
       "<div>\n",
       "<style scoped>\n",
       "    .dataframe tbody tr th:only-of-type {\n",
       "        vertical-align: middle;\n",
       "    }\n",
       "\n",
       "    .dataframe tbody tr th {\n",
       "        vertical-align: top;\n",
       "    }\n",
       "\n",
       "    .dataframe thead th {\n",
       "        text-align: right;\n",
       "    }\n",
       "</style>\n",
       "<table border=\"1\" class=\"dataframe\">\n",
       "  <thead>\n",
       "    <tr style=\"text-align: right;\">\n",
       "      <th></th>\n",
       "      <th>hotel</th>\n",
       "      <th>is_canceled</th>\n",
       "      <th>lead_time</th>\n",
       "      <th>arrival_date_year</th>\n",
       "      <th>arrival_date_month</th>\n",
       "      <th>arrival_date_week_number</th>\n",
       "      <th>arrival_date_day_of_month</th>\n",
       "      <th>stays_in_weekend_nights</th>\n",
       "      <th>stays_in_week_nights</th>\n",
       "      <th>adults</th>\n",
       "      <th>...</th>\n",
       "      <th>deposit_type</th>\n",
       "      <th>agent</th>\n",
       "      <th>company</th>\n",
       "      <th>days_in_waiting_list</th>\n",
       "      <th>customer_type</th>\n",
       "      <th>adr</th>\n",
       "      <th>required_car_parking_spaces</th>\n",
       "      <th>total_of_special_requests</th>\n",
       "      <th>reservation_status</th>\n",
       "      <th>reservation_status_date</th>\n",
       "    </tr>\n",
       "  </thead>\n",
       "  <tbody>\n",
       "    <tr>\n",
       "      <th>0</th>\n",
       "      <td>Resort Hotel</td>\n",
       "      <td>0</td>\n",
       "      <td>342</td>\n",
       "      <td>2015</td>\n",
       "      <td>July</td>\n",
       "      <td>27</td>\n",
       "      <td>1</td>\n",
       "      <td>0</td>\n",
       "      <td>0</td>\n",
       "      <td>2</td>\n",
       "      <td>...</td>\n",
       "      <td>No Deposit</td>\n",
       "      <td>NaN</td>\n",
       "      <td>NaN</td>\n",
       "      <td>0</td>\n",
       "      <td>Transient</td>\n",
       "      <td>0.0</td>\n",
       "      <td>0</td>\n",
       "      <td>0</td>\n",
       "      <td>Check-Out</td>\n",
       "      <td>2015-07-01</td>\n",
       "    </tr>\n",
       "    <tr>\n",
       "      <th>1</th>\n",
       "      <td>Resort Hotel</td>\n",
       "      <td>0</td>\n",
       "      <td>737</td>\n",
       "      <td>2015</td>\n",
       "      <td>July</td>\n",
       "      <td>27</td>\n",
       "      <td>1</td>\n",
       "      <td>0</td>\n",
       "      <td>0</td>\n",
       "      <td>2</td>\n",
       "      <td>...</td>\n",
       "      <td>No Deposit</td>\n",
       "      <td>NaN</td>\n",
       "      <td>NaN</td>\n",
       "      <td>0</td>\n",
       "      <td>Transient</td>\n",
       "      <td>0.0</td>\n",
       "      <td>0</td>\n",
       "      <td>0</td>\n",
       "      <td>Check-Out</td>\n",
       "      <td>2015-07-01</td>\n",
       "    </tr>\n",
       "    <tr>\n",
       "      <th>2</th>\n",
       "      <td>Resort Hotel</td>\n",
       "      <td>0</td>\n",
       "      <td>7</td>\n",
       "      <td>2015</td>\n",
       "      <td>July</td>\n",
       "      <td>27</td>\n",
       "      <td>1</td>\n",
       "      <td>0</td>\n",
       "      <td>1</td>\n",
       "      <td>1</td>\n",
       "      <td>...</td>\n",
       "      <td>No Deposit</td>\n",
       "      <td>NaN</td>\n",
       "      <td>NaN</td>\n",
       "      <td>0</td>\n",
       "      <td>Transient</td>\n",
       "      <td>75.0</td>\n",
       "      <td>0</td>\n",
       "      <td>0</td>\n",
       "      <td>Check-Out</td>\n",
       "      <td>2015-07-02</td>\n",
       "    </tr>\n",
       "    <tr>\n",
       "      <th>3</th>\n",
       "      <td>Resort Hotel</td>\n",
       "      <td>0</td>\n",
       "      <td>13</td>\n",
       "      <td>2015</td>\n",
       "      <td>July</td>\n",
       "      <td>27</td>\n",
       "      <td>1</td>\n",
       "      <td>0</td>\n",
       "      <td>1</td>\n",
       "      <td>1</td>\n",
       "      <td>...</td>\n",
       "      <td>No Deposit</td>\n",
       "      <td>304.0</td>\n",
       "      <td>NaN</td>\n",
       "      <td>0</td>\n",
       "      <td>Transient</td>\n",
       "      <td>75.0</td>\n",
       "      <td>0</td>\n",
       "      <td>0</td>\n",
       "      <td>Check-Out</td>\n",
       "      <td>2015-07-02</td>\n",
       "    </tr>\n",
       "    <tr>\n",
       "      <th>4</th>\n",
       "      <td>Resort Hotel</td>\n",
       "      <td>0</td>\n",
       "      <td>14</td>\n",
       "      <td>2015</td>\n",
       "      <td>July</td>\n",
       "      <td>27</td>\n",
       "      <td>1</td>\n",
       "      <td>0</td>\n",
       "      <td>2</td>\n",
       "      <td>2</td>\n",
       "      <td>...</td>\n",
       "      <td>No Deposit</td>\n",
       "      <td>240.0</td>\n",
       "      <td>NaN</td>\n",
       "      <td>0</td>\n",
       "      <td>Transient</td>\n",
       "      <td>98.0</td>\n",
       "      <td>0</td>\n",
       "      <td>1</td>\n",
       "      <td>Check-Out</td>\n",
       "      <td>2015-07-03</td>\n",
       "    </tr>\n",
       "    <tr>\n",
       "      <th>5</th>\n",
       "      <td>Resort Hotel</td>\n",
       "      <td>0</td>\n",
       "      <td>14</td>\n",
       "      <td>2015</td>\n",
       "      <td>July</td>\n",
       "      <td>27</td>\n",
       "      <td>1</td>\n",
       "      <td>0</td>\n",
       "      <td>2</td>\n",
       "      <td>2</td>\n",
       "      <td>...</td>\n",
       "      <td>No Deposit</td>\n",
       "      <td>240.0</td>\n",
       "      <td>NaN</td>\n",
       "      <td>0</td>\n",
       "      <td>Transient</td>\n",
       "      <td>98.0</td>\n",
       "      <td>0</td>\n",
       "      <td>1</td>\n",
       "      <td>Check-Out</td>\n",
       "      <td>2015-07-03</td>\n",
       "    </tr>\n",
       "    <tr>\n",
       "      <th>6</th>\n",
       "      <td>Resort Hotel</td>\n",
       "      <td>0</td>\n",
       "      <td>0</td>\n",
       "      <td>2015</td>\n",
       "      <td>July</td>\n",
       "      <td>27</td>\n",
       "      <td>1</td>\n",
       "      <td>0</td>\n",
       "      <td>2</td>\n",
       "      <td>2</td>\n",
       "      <td>...</td>\n",
       "      <td>No Deposit</td>\n",
       "      <td>NaN</td>\n",
       "      <td>NaN</td>\n",
       "      <td>0</td>\n",
       "      <td>Transient</td>\n",
       "      <td>107.0</td>\n",
       "      <td>0</td>\n",
       "      <td>0</td>\n",
       "      <td>Check-Out</td>\n",
       "      <td>2015-07-03</td>\n",
       "    </tr>\n",
       "    <tr>\n",
       "      <th>7</th>\n",
       "      <td>Resort Hotel</td>\n",
       "      <td>0</td>\n",
       "      <td>9</td>\n",
       "      <td>2015</td>\n",
       "      <td>July</td>\n",
       "      <td>27</td>\n",
       "      <td>1</td>\n",
       "      <td>0</td>\n",
       "      <td>2</td>\n",
       "      <td>2</td>\n",
       "      <td>...</td>\n",
       "      <td>No Deposit</td>\n",
       "      <td>303.0</td>\n",
       "      <td>NaN</td>\n",
       "      <td>0</td>\n",
       "      <td>Transient</td>\n",
       "      <td>103.0</td>\n",
       "      <td>0</td>\n",
       "      <td>1</td>\n",
       "      <td>Check-Out</td>\n",
       "      <td>2015-07-03</td>\n",
       "    </tr>\n",
       "    <tr>\n",
       "      <th>8</th>\n",
       "      <td>Resort Hotel</td>\n",
       "      <td>1</td>\n",
       "      <td>85</td>\n",
       "      <td>2015</td>\n",
       "      <td>July</td>\n",
       "      <td>27</td>\n",
       "      <td>1</td>\n",
       "      <td>0</td>\n",
       "      <td>3</td>\n",
       "      <td>2</td>\n",
       "      <td>...</td>\n",
       "      <td>No Deposit</td>\n",
       "      <td>240.0</td>\n",
       "      <td>NaN</td>\n",
       "      <td>0</td>\n",
       "      <td>Transient</td>\n",
       "      <td>82.0</td>\n",
       "      <td>0</td>\n",
       "      <td>1</td>\n",
       "      <td>Canceled</td>\n",
       "      <td>2015-05-06</td>\n",
       "    </tr>\n",
       "    <tr>\n",
       "      <th>9</th>\n",
       "      <td>Resort Hotel</td>\n",
       "      <td>1</td>\n",
       "      <td>75</td>\n",
       "      <td>2015</td>\n",
       "      <td>July</td>\n",
       "      <td>27</td>\n",
       "      <td>1</td>\n",
       "      <td>0</td>\n",
       "      <td>3</td>\n",
       "      <td>2</td>\n",
       "      <td>...</td>\n",
       "      <td>No Deposit</td>\n",
       "      <td>15.0</td>\n",
       "      <td>NaN</td>\n",
       "      <td>0</td>\n",
       "      <td>Transient</td>\n",
       "      <td>105.5</td>\n",
       "      <td>0</td>\n",
       "      <td>0</td>\n",
       "      <td>Canceled</td>\n",
       "      <td>2015-04-22</td>\n",
       "    </tr>\n",
       "  </tbody>\n",
       "</table>\n",
       "<p>10 rows × 32 columns</p>\n",
       "</div>"
      ],
      "text/plain": [
       "          hotel  is_canceled  lead_time  arrival_date_year arrival_date_month  \\\n",
       "0  Resort Hotel            0        342               2015               July   \n",
       "1  Resort Hotel            0        737               2015               July   \n",
       "2  Resort Hotel            0          7               2015               July   \n",
       "3  Resort Hotel            0         13               2015               July   \n",
       "4  Resort Hotel            0         14               2015               July   \n",
       "5  Resort Hotel            0         14               2015               July   \n",
       "6  Resort Hotel            0          0               2015               July   \n",
       "7  Resort Hotel            0          9               2015               July   \n",
       "8  Resort Hotel            1         85               2015               July   \n",
       "9  Resort Hotel            1         75               2015               July   \n",
       "\n",
       "   arrival_date_week_number  arrival_date_day_of_month  \\\n",
       "0                        27                          1   \n",
       "1                        27                          1   \n",
       "2                        27                          1   \n",
       "3                        27                          1   \n",
       "4                        27                          1   \n",
       "5                        27                          1   \n",
       "6                        27                          1   \n",
       "7                        27                          1   \n",
       "8                        27                          1   \n",
       "9                        27                          1   \n",
       "\n",
       "   stays_in_weekend_nights  stays_in_week_nights  adults  ...  deposit_type  \\\n",
       "0                        0                     0       2  ...    No Deposit   \n",
       "1                        0                     0       2  ...    No Deposit   \n",
       "2                        0                     1       1  ...    No Deposit   \n",
       "3                        0                     1       1  ...    No Deposit   \n",
       "4                        0                     2       2  ...    No Deposit   \n",
       "5                        0                     2       2  ...    No Deposit   \n",
       "6                        0                     2       2  ...    No Deposit   \n",
       "7                        0                     2       2  ...    No Deposit   \n",
       "8                        0                     3       2  ...    No Deposit   \n",
       "9                        0                     3       2  ...    No Deposit   \n",
       "\n",
       "   agent company days_in_waiting_list customer_type    adr  \\\n",
       "0    NaN     NaN                    0     Transient    0.0   \n",
       "1    NaN     NaN                    0     Transient    0.0   \n",
       "2    NaN     NaN                    0     Transient   75.0   \n",
       "3  304.0     NaN                    0     Transient   75.0   \n",
       "4  240.0     NaN                    0     Transient   98.0   \n",
       "5  240.0     NaN                    0     Transient   98.0   \n",
       "6    NaN     NaN                    0     Transient  107.0   \n",
       "7  303.0     NaN                    0     Transient  103.0   \n",
       "8  240.0     NaN                    0     Transient   82.0   \n",
       "9   15.0     NaN                    0     Transient  105.5   \n",
       "\n",
       "   required_car_parking_spaces  total_of_special_requests  reservation_status  \\\n",
       "0                            0                          0           Check-Out   \n",
       "1                            0                          0           Check-Out   \n",
       "2                            0                          0           Check-Out   \n",
       "3                            0                          0           Check-Out   \n",
       "4                            0                          1           Check-Out   \n",
       "5                            0                          1           Check-Out   \n",
       "6                            0                          0           Check-Out   \n",
       "7                            0                          1           Check-Out   \n",
       "8                            0                          1            Canceled   \n",
       "9                            0                          0            Canceled   \n",
       "\n",
       "  reservation_status_date  \n",
       "0              2015-07-01  \n",
       "1              2015-07-01  \n",
       "2              2015-07-02  \n",
       "3              2015-07-02  \n",
       "4              2015-07-03  \n",
       "5              2015-07-03  \n",
       "6              2015-07-03  \n",
       "7              2015-07-03  \n",
       "8              2015-05-06  \n",
       "9              2015-04-22  \n",
       "\n",
       "[10 rows x 32 columns]"
      ]
     },
     "execution_count": 52,
     "metadata": {},
     "output_type": "execute_result"
    }
   ],
   "source": [
    "pd.get_option(\"display.max_columns\")\n",
    "data = pd.read_csv(\"hotel_bookings.csv\")\n",
    "data.head(10)"
   ]
  },
  {
   "cell_type": "code",
   "execution_count": 53,
   "metadata": {},
   "outputs": [
    {
     "data": {
      "text/plain": [
       "(119390, 32)"
      ]
     },
     "execution_count": 53,
     "metadata": {},
     "output_type": "execute_result"
    }
   ],
   "source": [
    "data.shape"
   ]
  },
  {
   "cell_type": "markdown",
   "metadata": {},
   "source": [
    "The data contains 119390 rows(records or observations) and 32 number of columns(variables or features)."
   ]
  },
  {
   "cell_type": "code",
   "execution_count": 54,
   "metadata": {},
   "outputs": [
    {
     "name": "stdout",
     "output_type": "stream",
     "text": [
      "Index(['hotel', 'is_canceled', 'lead_time', 'arrival_date_year',\n",
      "       'arrival_date_month', 'arrival_date_week_number',\n",
      "       'arrival_date_day_of_month', 'stays_in_weekend_nights',\n",
      "       'stays_in_week_nights', 'adults', 'children', 'babies', 'meal',\n",
      "       'country', 'market_segment', 'distribution_channel',\n",
      "       'is_repeated_guest', 'previous_cancellations',\n",
      "       'previous_bookings_not_canceled', 'reserved_room_type',\n",
      "       'assigned_room_type', 'booking_changes', 'deposit_type', 'agent',\n",
      "       'company', 'days_in_waiting_list', 'customer_type', 'adr',\n",
      "       'required_car_parking_spaces', 'total_of_special_requests',\n",
      "       'reservation_status', 'reservation_status_date'],\n",
      "      dtype='object')\n"
     ]
    }
   ],
   "source": [
    "print(data.columns)"
   ]
  },
  {
   "cell_type": "markdown",
   "metadata": {},
   "source": [
    "## 1) Find the dirt\n",
    "\n",
    "We are going to determine if there is any issue(missing values, duplicates, outliers, Inconsistency...) with the data. "
   ]
  },
  {
   "cell_type": "markdown",
   "metadata": {},
   "source": [
    "**a) Missing Data**\n",
    "\n",
    "Let's find out if the dataset contains missing values, dataset with missing values cannot being used for data modeling."
   ]
  },
  {
   "cell_type": "code",
   "execution_count": 55,
   "metadata": {},
   "outputs": [
    {
     "name": "stdout",
     "output_type": "stream",
     "text": [
      "hotel                             False\n",
      "is_canceled                       False\n",
      "lead_time                         False\n",
      "arrival_date_year                 False\n",
      "arrival_date_month                False\n",
      "arrival_date_week_number          False\n",
      "arrival_date_day_of_month         False\n",
      "stays_in_weekend_nights           False\n",
      "stays_in_week_nights              False\n",
      "adults                            False\n",
      "children                           True\n",
      "babies                            False\n",
      "meal                              False\n",
      "country                            True\n",
      "market_segment                    False\n",
      "distribution_channel              False\n",
      "is_repeated_guest                 False\n",
      "previous_cancellations            False\n",
      "previous_bookings_not_canceled    False\n",
      "reserved_room_type                False\n",
      "assigned_room_type                False\n",
      "booking_changes                   False\n",
      "deposit_type                      False\n",
      "agent                              True\n",
      "company                            True\n",
      "days_in_waiting_list              False\n",
      "customer_type                     False\n",
      "adr                               False\n",
      "required_car_parking_spaces       False\n",
      "total_of_special_requests         False\n",
      "reservation_status                False\n",
      "reservation_status_date           False\n",
      "dtype: bool\n"
     ]
    },
    {
     "data": {
      "text/plain": [
       "hotel                                  0\n",
       "is_canceled                            0\n",
       "lead_time                              0\n",
       "arrival_date_year                      0\n",
       "arrival_date_month                     0\n",
       "arrival_date_week_number               0\n",
       "arrival_date_day_of_month              0\n",
       "stays_in_weekend_nights                0\n",
       "stays_in_week_nights                   0\n",
       "adults                                 0\n",
       "children                               4\n",
       "babies                                 0\n",
       "meal                                   0\n",
       "country                              488\n",
       "market_segment                         0\n",
       "distribution_channel                   0\n",
       "is_repeated_guest                      0\n",
       "previous_cancellations                 0\n",
       "previous_bookings_not_canceled         0\n",
       "reserved_room_type                     0\n",
       "assigned_room_type                     0\n",
       "booking_changes                        0\n",
       "deposit_type                           0\n",
       "agent                              16340\n",
       "company                           112593\n",
       "days_in_waiting_list                   0\n",
       "customer_type                          0\n",
       "adr                                    0\n",
       "required_car_parking_spaces            0\n",
       "total_of_special_requests              0\n",
       "reservation_status                     0\n",
       "reservation_status_date                0\n",
       "dtype: int64"
      ]
     },
     "execution_count": 55,
     "metadata": {},
     "output_type": "execute_result"
    }
   ],
   "source": [
    "# First let'st check columns with missing values\n",
    "print(data.isnull().any())\n",
    "miss_col = data.isnull().sum()\n",
    "miss_col"
   ]
  },
  {
   "cell_type": "code",
   "execution_count": null,
   "metadata": {},
   "outputs": [],
   "source": []
  },
  {
   "cell_type": "markdown",
   "metadata": {},
   "source": [
    "Four columns contain missing values, These columns are children, country, agent, and company. Before taking any decision about what to do with these columns, let's find the percentage of missing data in these column."
   ]
  },
  {
   "cell_type": "code",
   "execution_count": 56,
   "metadata": {},
   "outputs": [
    {
     "name": "stdout",
     "output_type": "stream",
     "text": [
      "129425\n",
      "3820480\n",
      "The percentage of missing data is 3.388%\n"
     ]
    }
   ],
   "source": [
    "# total missing values in the dataset\n",
    "Total_missing = miss_col.sum()\n",
    "print(Total_missing)\n",
    "\n",
    "# total cells in the dataset\n",
    "total_cells = np.product(data.shape)\n",
    "print(total_cells)\n",
    "\n",
    "# percentage missing data\n",
    "percent = (Total_missing/total_cells)*100\n",
    "\n",
    "print(\"The percentage of missing data is\",\"%.3f%%\" %(percent))"
   ]
  },
  {
   "cell_type": "code",
   "execution_count": 57,
   "metadata": {},
   "outputs": [
    {
     "name": "stdout",
     "output_type": "stream",
     "text": [
      "children has 0.003%  missing values\n",
      "country has 0.409%  missing values\n",
      "agent has 13.686%  missing values\n",
      "company has 94.307%  missing values\n"
     ]
    }
   ],
   "source": [
    "# missing value per column\n",
    "for col in data.columns:\n",
    "    if data[col].isnull().any()==True:\n",
    "        col_percent=(data[col].isnull().sum()/data.shape[0])*100\n",
    "        print(col,\"has\",\"%.3f%%\" %(col_percent),\" missing values\")"
   ]
  },
  {
   "cell_type": "markdown",
   "metadata": {},
   "source": [
    "Company has a very high missing values percentage **94.3 percent**, followed by Agent  **13.68 percent**, followed by Country **0.4 percent** and then children **0.00335 percent**."
   ]
  },
  {
   "cell_type": "markdown",
   "metadata": {},
   "source": [
    "**b) Columns with Single Value**\n",
    "\n",
    "Let's identify if the dataset has columns with single values, Columns thata contain single values are useless for modeling."
   ]
  },
  {
   "cell_type": "code",
   "execution_count": 58,
   "metadata": {},
   "outputs": [],
   "source": [
    "# summarize the number of unique values for each column using pandas.\n",
    "counts=data.nunique()"
   ]
  },
  {
   "cell_type": "code",
   "execution_count": 62,
   "metadata": {},
   "outputs": [
    {
     "data": {
      "text/plain": [
       "hotel                                2\n",
       "is_canceled                          2\n",
       "lead_time                          479\n",
       "arrival_date_year                    3\n",
       "arrival_date_month                  12\n",
       "arrival_date_week_number            53\n",
       "arrival_date_day_of_month           31\n",
       "stays_in_weekend_nights             17\n",
       "stays_in_week_nights                35\n",
       "adults                              14\n",
       "children                             5\n",
       "babies                               5\n",
       "meal                                 5\n",
       "country                            177\n",
       "market_segment                       8\n",
       "distribution_channel                 5\n",
       "is_repeated_guest                    2\n",
       "previous_cancellations              15\n",
       "previous_bookings_not_canceled      73\n",
       "reserved_room_type                  10\n",
       "assigned_room_type                  12\n",
       "booking_changes                     21\n",
       "deposit_type                         3\n",
       "agent                              333\n",
       "company                            352\n",
       "days_in_waiting_list               128\n",
       "customer_type                        4\n",
       "adr                               8879\n",
       "required_car_parking_spaces          5\n",
       "total_of_special_requests            6\n",
       "reservation_status                   3\n",
       "reservation_status_date            926\n",
       "dtype: int64"
      ]
     },
     "execution_count": 62,
     "metadata": {},
     "output_type": "execute_result"
    }
   ],
   "source": [
    "counts"
   ]
  },
  {
   "cell_type": "code",
   "execution_count": 59,
   "metadata": {},
   "outputs": [
    {
     "name": "stdout",
     "output_type": "stream",
     "text": [
      "0\n"
     ]
    }
   ],
   "source": [
    "# list of columns with single values \n",
    "unique_col = [i for i,v in enumerate(counts) if v==1]\n",
    "print(len(unique_col))"
   ]
  },
  {
   "cell_type": "markdown",
   "metadata": {},
   "source": [
    "There is no column with single value, but there are columns with few values, below we will determine columns with few values "
   ]
  },
  {
   "cell_type": "markdown",
   "metadata": {},
   "source": [
    "**C) Columns that contain very Few Values**\n",
    "\n",
    "Columns with few values are also not good for modeling, we will identify columns with few values"
   ]
  },
  {
   "cell_type": "code",
   "execution_count": 60,
   "metadata": {},
   "outputs": [
    {
     "name": "stdout",
     "output_type": "stream",
     "text": [
      "0, 2, 0.002%\n",
      "1, 2, 0.002%\n",
      "2, 479, 0.401%\n",
      "3, 3, 0.003%\n",
      "4, 12, 0.010%\n",
      "5, 53, 0.044%\n",
      "6, 31, 0.026%\n",
      "7, 17, 0.014%\n",
      "8, 35, 0.029%\n",
      "9, 14, 0.012%\n",
      "10, 6, 0.005%\n",
      "11, 5, 0.004%\n",
      "12, 5, 0.004%\n",
      "13, 178, 0.149%\n",
      "14, 8, 0.007%\n",
      "15, 5, 0.004%\n",
      "16, 2, 0.002%\n",
      "17, 15, 0.013%\n",
      "18, 73, 0.061%\n",
      "19, 10, 0.008%\n",
      "20, 12, 0.010%\n",
      "21, 21, 0.018%\n",
      "22, 3, 0.003%\n",
      "23, 334, 0.280%\n",
      "24, 353, 0.296%\n",
      "25, 128, 0.107%\n",
      "26, 4, 0.003%\n",
      "28, 5, 0.004%\n",
      "29, 6, 0.005%\n",
      "30, 3, 0.003%\n",
      "31, 926, 0.776%\n"
     ]
    }
   ],
   "source": [
    "for i in range(data.shape[1]):\n",
    "    values=len(unique(data.iloc[:,i].astype(str)))\n",
    "    percentage=(float(values)/data.shape[0])*100\n",
    "    #summarize those variables that have unique values that are less than 1 percent of the number of rows.\n",
    "    if percentage<1:\n",
    "        print('%d, %d, %.3f%%' % (i, values, percentage)) "
   ]
  },
  {
   "cell_type": "code",
   "execution_count": null,
   "metadata": {},
   "outputs": [],
   "source": []
  },
  {
   "cell_type": "markdown",
   "metadata": {},
   "source": [
    "31 columns out of 32 have unique values that are less than 1% of the number of rows. This does not mean that these rows and columns should be deleted, but they require further attention. For example:\n",
    "\n",
    "* Perhaps the unique values can be encoded as ordinal values?\n",
    "* Perhaps the unique values can be encoded as categorical values?\n"
   ]
  },
  {
   "cell_type": "markdown",
   "metadata": {},
   "source": [
    "**D) Duplicate Data**\n",
    "\n",
    "Let's look for duplicates in our dataset, it is important to identify and remove duplicates from dataset because they biased the fitted model and lead to ovefitting"
   ]
  },
  {
   "cell_type": "code",
   "execution_count": 12,
   "metadata": {},
   "outputs": [
    {
     "name": "stdout",
     "output_type": "stream",
     "text": [
      "True\n",
      "There are 31994 duplicated rows\n"
     ]
    }
   ],
   "source": [
    "dupl = data.duplicated()\n",
    "#report if there is any duplicate\n",
    "print(dupl.any())\n",
    "print(\"There are\",dupl.sum(),\"duplicated rows\")"
   ]
  },
  {
   "cell_type": "markdown",
   "metadata": {},
   "source": [
    "**E) Invalid and Contaminated Data**\n",
    "\n",
    "Invalid and contaminated data are illogical data due to human errors or results of functions giving illogical outcome. For example having 500 for age or -12 for weight. To find out if there is any invalid or contaminated data, we will plot histograms of all the columns.\n",
    "\n",
    "**Numerical Data**"
   ]
  },
  {
   "cell_type": "code",
   "execution_count": 13,
   "metadata": {},
   "outputs": [
    {
     "data": {
      "image/png": "[encoded data removed]",
      "text/plain": [
       "<Figure size 1152x1152 with 20 Axes>"
      ]
     },
     "metadata": {
      "needs_background": "light"
     },
     "output_type": "display_data"
    }
   ],
   "source": [
    "#Numerical columns\n",
    "numerical_cols=[cname for cname in data.columns if data[cname].dtype in [\"int64\",\"float64\"]]\n",
    "histograms = data[numerical_cols].hist(figsize=(16,16), grid=False)"
   ]
  },
  {
   "cell_type": "markdown",
   "metadata": {},
   "source": [
    "From the histograms, we can conclude there is no illogical value for each numerical columns.\n",
    "\n",
    "**Categorical Data**"
   ]
  },
  {
   "cell_type": "code",
   "execution_count": 14,
   "metadata": {
    "scrolled": true
   },
   "outputs": [
    {
     "data": {
      "image/png": "[encoded data removed]",
      "text/plain": [
       "<Figure size 1152x720 with 10 Axes>"
      ]
     },
     "metadata": {
      "needs_background": "light"
     },
     "output_type": "display_data"
    }
   ],
   "source": [
    "#categorical columns\n",
    "catego_cols=[cname for cname in data.columns if (data[cname].dtype==\"object\")]\n",
    "cat=[c for c in catego_cols if c not in [\"country\",\"reservation_status_date\"]]\n",
    "fig, axes = plt.subplots(2,5 , figsize=(16,10))\n",
    "axes_it = axes.flat\n",
    "for c,ax in zip(cat, axes_it):\n",
    "    #data[c].value_counts().plot(kind='bar')\n",
    "    data[c].value_counts().plot(kind=\"bar\", ax=ax, color=\"blue\")\n",
    "fig.tight_layout(pad=1.0)\n",
    "plt.show()\n"
   ]
  },
  {
   "cell_type": "markdown",
   "metadata": {},
   "source": [
    "From the bar charts, we can conclude there is no illogical value for each categorical columns."
   ]
  },
  {
   "cell_type": "markdown",
   "metadata": {},
   "source": [
    "**F) Inconsistence Data**"
   ]
  },
  {
   "cell_type": "markdown",
   "metadata": {},
   "source": [
    "They are same elements with different cases , different datatypes or misspelling, From the above plots, we can conclude that the categorical columns don't contain inconsistent data. We did not plot country column, let's display all the unique values after removing blank spaces and converting everything into lower case, and see if it contains any inconsistency.  "
   ]
  },
  {
   "cell_type": "code",
   "execution_count": 15,
   "metadata": {},
   "outputs": [],
   "source": [
    "# convert to lower case\n",
    "data['country'] = data['country'].str.lower()\n",
    "# remove trailing white spaces\n",
    "data['country'] = data['country'].str.strip()"
   ]
  },
  {
   "cell_type": "code",
   "execution_count": 16,
   "metadata": {},
   "outputs": [
    {
     "data": {
      "text/plain": [
       "array(['abw', 'ago', 'aia', 'alb', 'and', 'are', 'arg', 'arm', 'asm',\n",
       "       'ata', 'atf', 'aus', 'aut', 'aze', 'bdi', 'bel', 'ben', 'bfa',\n",
       "       'bgd', 'bgr', 'bhr', 'bhs', 'bih', 'blr', 'bol', 'bra', 'brb',\n",
       "       'bwa', 'caf', 'che', 'chl', 'chn', 'civ', 'cmr', 'cn', 'col',\n",
       "       'com', 'cpv', 'cri', 'cub', 'cym', 'cyp', 'cze', 'deu', 'dji',\n",
       "       'dma', 'dnk', 'dom', 'dza', 'ecu', 'egy', 'esp', 'est', 'eth',\n",
       "       'fin', 'fji', 'fra', 'fro', 'gab', 'gbr', 'geo', 'ggy', 'gha',\n",
       "       'gib', 'glp', 'gnb', 'grc', 'gtm', 'guy', 'hkg', 'hnd', 'hrv',\n",
       "       'hun', 'idn', 'imn', 'ind', 'irl', 'irn', 'irq', 'isl', 'isr',\n",
       "       'ita', 'jam', 'jey', 'jor', 'jpn', 'kaz', 'ken', 'khm', 'kir',\n",
       "       'kna', 'kor', 'kwt', 'lao', 'lbn', 'lby', 'lca', 'lie', 'lka',\n",
       "       'ltu', 'lux', 'lva', 'mac', 'mar', 'mco', 'mdg', 'mdv', 'mex',\n",
       "       'mkd', 'mli', 'mlt', 'mmr', 'mne', 'moz', 'mrt', 'mus', 'mwi',\n",
       "       'mys', 'myt', 'nam', 'nan', 'ncl', 'nga', 'nic', 'nld', 'nor',\n",
       "       'npl', 'nzl', 'omn', 'pak', 'pan', 'per', 'phl', 'plw', 'pol',\n",
       "       'pri', 'prt', 'pry', 'pyf', 'qat', 'rou', 'rus', 'rwa', 'sau',\n",
       "       'sdn', 'sen', 'sgp', 'sle', 'slv', 'smr', 'srb', 'stp', 'sur',\n",
       "       'svk', 'svn', 'swe', 'syc', 'syr', 'tgo', 'tha', 'tjk', 'tmp',\n",
       "       'tun', 'tur', 'twn', 'tza', 'uga', 'ukr', 'umi', 'ury', 'usa',\n",
       "       'uzb', 'ven', 'vgb', 'vnm', 'zaf', 'zmb', 'zwe'], dtype=object)"
      ]
     },
     "execution_count": 16,
     "metadata": {},
     "output_type": "execute_result"
    }
   ],
   "source": [
    "# get all the unique values in the 'Country' column\n",
    "countries=data[\"country\"].astype(str).unique()\n",
    "# sort them alphabetically and then take a closer look\n",
    "countries.sort()\n",
    "countries"
   ]
  },
  {
   "cell_type": "markdown",
   "metadata": {},
   "source": [
    "After displaying the unique values, we can conclude country column does not contain any inconsistency data."
   ]
  },
  {
   "cell_type": "markdown",
   "metadata": {},
   "source": [
    "**G) Outliers**\n",
    "\n",
    "They are extremes values in the dataset, they could be due to processing errors or interesting behaviors. Having outliers can mess up the analysis by bringing the averages up or down and in general distorting the statistics."
   ]
  },
  {
   "cell_type": "code",
   "execution_count": 17,
   "metadata": {},
   "outputs": [
    {
     "name": "stdout",
     "output_type": "stream",
     "text": [
      "Percentiles: 25th = 0.000, 75th = 1.000, IQR = 1.000\n",
      "is_canceled ----------> Identified outliers: 0\n",
      "Percentiles: 25th = 18.000, 75th = 160.000, IQR = 142.000\n",
      "lead_time ----------> Identified outliers: 3005\n",
      "Percentiles: 25th = 2016.000, 75th = 2017.000, IQR = 1.000\n",
      "arrival_date_year ----------> Identified outliers: 0\n",
      "Percentiles: 25th = 16.000, 75th = 38.000, IQR = 22.000\n",
      "arrival_date_week_number ----------> Identified outliers: 0\n",
      "Percentiles: 25th = 8.000, 75th = 23.000, IQR = 15.000\n",
      "arrival_date_day_of_month ----------> Identified outliers: 0\n",
      "Percentiles: 25th = 0.000, 75th = 2.000, IQR = 2.000\n",
      "stays_in_weekend_nights ----------> Identified outliers: 265\n",
      "Percentiles: 25th = 1.000, 75th = 3.000, IQR = 2.000\n",
      "stays_in_week_nights ----------> Identified outliers: 3354\n",
      "Percentiles: 25th = 2.000, 75th = 2.000, IQR = 0.000\n",
      "adults ----------> Identified outliers: 29710\n",
      "Percentiles: 25th = nan, 75th = nan, IQR = nan\n",
      "children ----------> Identified outliers: 0\n",
      "Percentiles: 25th = 0.000, 75th = 0.000, IQR = 0.000\n",
      "babies ----------> Identified outliers: 917\n",
      "Percentiles: 25th = 0.000, 75th = 0.000, IQR = 0.000\n",
      "is_repeated_guest ----------> Identified outliers: 3810\n",
      "Percentiles: 25th = 0.000, 75th = 0.000, IQR = 0.000\n",
      "previous_cancellations ----------> Identified outliers: 6484\n",
      "Percentiles: 25th = 0.000, 75th = 0.000, IQR = 0.000\n",
      "previous_bookings_not_canceled ----------> Identified outliers: 3620\n",
      "Percentiles: 25th = 0.000, 75th = 0.000, IQR = 0.000\n",
      "booking_changes ----------> Identified outliers: 18076\n",
      "Percentiles: 25th = nan, 75th = nan, IQR = nan\n",
      "agent ----------> Identified outliers: 0\n",
      "Percentiles: 25th = nan, 75th = nan, IQR = nan\n",
      "company ----------> Identified outliers: 0\n",
      "Percentiles: 25th = 0.000, 75th = 0.000, IQR = 0.000\n",
      "days_in_waiting_list ----------> Identified outliers: 3698\n",
      "Percentiles: 25th = 69.290, 75th = 126.000, IQR = 56.710\n",
      "adr ----------> Identified outliers: 3793\n",
      "Percentiles: 25th = 0.000, 75th = 0.000, IQR = 0.000\n",
      "required_car_parking_spaces ----------> Identified outliers: 7416\n",
      "Percentiles: 25th = 0.000, 75th = 1.000, IQR = 1.000\n",
      "total_of_special_requests ----------> Identified outliers: 2877\n",
      "**************************************\n",
      "**************************************\n",
      "13 numerical columns have outliers\n"
     ]
    }
   ],
   "source": [
    "k=[]\n",
    "for c in numerical_cols:\n",
    "    q25, q75 = np.percentile(data[c], 25), np.percentile(data[c], 75)\n",
    "    iqr = q75 - q25\n",
    "    print('Percentiles: 25th = %.3f, 75th = %.3f, IQR = %.3f' % (q25, q75, iqr))\n",
    "    \n",
    "    # calculate the outlier cutoff\n",
    "    cut_off = iqr * 1.5\n",
    "    lower, upper = q25 - cut_off, q75 + cut_off\n",
    "\n",
    "    # identify outliers\n",
    "    indx = np.where((data[c] < lower) | (data[c] > upper))\n",
    "    print(c,'----------> Identified outliers: %d' % len(indx[0]))\n",
    "\n",
    "    if len(indx[0])>0:\n",
    "       k.append(c)\n",
    "print(\"**************************************\")\n",
    "print(\"**************************************\")\n",
    "print(len(k),\"numerical columns have outliers\")"
   ]
  },
  {
   "cell_type": "code",
   "execution_count": 18,
   "metadata": {},
   "outputs": [
    {
     "data": {
      "text/plain": [
       "['lead_time',\n",
       " 'stays_in_weekend_nights',\n",
       " 'stays_in_week_nights',\n",
       " 'adults',\n",
       " 'babies',\n",
       " 'is_repeated_guest',\n",
       " 'previous_cancellations',\n",
       " 'previous_bookings_not_canceled',\n",
       " 'booking_changes',\n",
       " 'days_in_waiting_list',\n",
       " 'adr',\n",
       " 'required_car_parking_spaces',\n",
       " 'total_of_special_requests']"
      ]
     },
     "execution_count": 18,
     "metadata": {},
     "output_type": "execute_result"
    }
   ],
   "source": [
    "# Columns with outliers\n",
    "k"
   ]
  },
  {
   "cell_type": "markdown",
   "metadata": {},
   "source": [
    "Out of the 20 numerical columns 13 contain outliers. We will decide what to do about them later, let's pick the column lead_time and interprete the result.\n",
    "\n"
   ]
  },
  {
   "cell_type": "code",
   "execution_count": 19,
   "metadata": {},
   "outputs": [
    {
     "data": {
      "text/plain": [
       "{'whiskers': [<matplotlib.lines.Line2D at 0x14b68ba3af0>,\n",
       "  <matplotlib.lines.Line2D at 0x14b68ba3a00>],\n",
       " 'caps': [<matplotlib.lines.Line2D at 0x14b6cff5370>,\n",
       "  <matplotlib.lines.Line2D at 0x14b6cff56d0>],\n",
       " 'boxes': [<matplotlib.lines.Line2D at 0x14b68ba38b0>],\n",
       " 'medians': [<matplotlib.lines.Line2D at 0x14b6cff5a30>],\n",
       " 'fliers': [<matplotlib.lines.Line2D at 0x14b6cff5d00>],\n",
       " 'means': []}"
      ]
     },
     "execution_count": 19,
     "metadata": {},
     "output_type": "execute_result"
    },
    {
     "data": {
      "image/png": "[encoded data removed]",
      "text/plain": [
       "<Figure size 432x288 with 1 Axes>"
      ]
     },
     "metadata": {
      "needs_background": "light"
     },
     "output_type": "display_data"
    }
   ],
   "source": [
    "plt.boxplot(data[\"lead_time\"])"
   ]
  },
  {
   "cell_type": "markdown",
   "metadata": {},
   "source": [
    "From the box plot and the percentiles calculation done above **(Percentiles: 25th = 18.000, 75th = 160.000, IQR = 142.000)**, we can see the minimum lead-time is 0, the median lead time is approximatively 70 days, the maximum lead time excluding outliers is approximatively 380 days, 25 percent of the lead time is below 18 days and 75 percent of the lead time is below 160 days. The IQR being days minutes which is a large value, we can conclude that the the middle 50 percent of our data is widely spread. The number of outliers identified for lead time is **3005**."
   ]
  },
  {
   "cell_type": "markdown",
   "metadata": {},
   "source": [
    "## 2) Scrub the dirt\n",
    "\n",
    "After finding the dirt, we have now to clean dirts found in the dataset\n",
    "\n",
    "**a) Remove outliers from the dataset**\n",
    "\n",
    "Firstly, we will start by removing rows with outliers from the dataset. from the dataset, from the outliers analysis done above, 13 columns have outliers."
   ]
  },
  {
   "cell_type": "code",
   "execution_count": 20,
   "metadata": {},
   "outputs": [
    {
     "name": "stdout",
     "output_type": "stream",
     "text": [
      "Non-outlier observations: 116513\n"
     ]
    },
    {
     "data": {
      "text/plain": [
       "(116513, 32)"
      ]
     },
     "execution_count": 20,
     "metadata": {},
     "output_type": "execute_result"
    }
   ],
   "source": [
    "data.drop(data.iloc[indx].index, inplace=True)\n",
    "print('Non-outlier observations: %d' % len(data))\n",
    "data.shape"
   ]
  },
  {
   "cell_type": "markdown",
   "metadata": {},
   "source": [
    "After removing the outliers the dataset contains now , 116513 rows and 32 columns\n",
    "\n",
    "**b) Clean Missing Data**\n",
    "\n",
    "Let's remove columns with missing data from the dataset. From  the missing data analysis done above, four columns contain missing data: Company (94.3%), Agent (13.68%), Country (0.4%) and children (0.00335%). The two first columns contain a high level of missing data, so the best thing to do is to remove them, for children we will use statistical imputation. It will be left with country, dropping it is not a good solution it has only 0.5 percent of missing data, and imputing it is not advisable, so we will drop the null values."
   ]
  },
  {
   "cell_type": "code",
   "execution_count": 21,
   "metadata": {},
   "outputs": [
    {
     "data": {
      "text/plain": [
       "Index(['hotel', 'is_canceled', 'lead_time', 'arrival_date_year',\n",
       "       'arrival_date_month', 'arrival_date_week_number',\n",
       "       'arrival_date_day_of_month', 'stays_in_weekend_nights',\n",
       "       'stays_in_week_nights', 'adults', 'children', 'babies', 'meal',\n",
       "       'country', 'market_segment', 'distribution_channel',\n",
       "       'is_repeated_guest', 'previous_cancellations',\n",
       "       'previous_bookings_not_canceled', 'reserved_room_type',\n",
       "       'assigned_room_type', 'booking_changes', 'deposit_type',\n",
       "       'days_in_waiting_list', 'customer_type', 'adr',\n",
       "       'required_car_parking_spaces', 'total_of_special_requests',\n",
       "       'reservation_status', 'reservation_status_date'],\n",
       "      dtype='object')"
      ]
     },
     "execution_count": 21,
     "metadata": {},
     "output_type": "execute_result"
    }
   ],
   "source": [
    "# dropping company and agent columns\n",
    "data.drop(['company','agent'],axis='columns', inplace=True)\n",
    "data.columns"
   ]
  },
  {
   "cell_type": "code",
   "execution_count": 22,
   "metadata": {},
   "outputs": [
    {
     "data": {
      "text/plain": [
       "(116513, 30)"
      ]
     },
     "execution_count": 22,
     "metadata": {},
     "output_type": "execute_result"
    }
   ],
   "source": [
    "data.shape"
   ]
  },
  {
   "cell_type": "code",
   "execution_count": 23,
   "metadata": {},
   "outputs": [
    {
     "data": {
      "text/plain": [
       "0"
      ]
     },
     "execution_count": 23,
     "metadata": {},
     "output_type": "execute_result"
    }
   ],
   "source": [
    "# Imputing children column using mode(most frequently occuring value in the column)\n",
    "data[\"children\"].fillna(st.mode(data[\"children\"]), inplace=True)\n",
    "data[\"children\"].isnull().sum()"
   ]
  },
  {
   "cell_type": "code",
   "execution_count": 24,
   "metadata": {},
   "outputs": [
    {
     "data": {
      "text/plain": [
       "hotel                             0\n",
       "is_canceled                       0\n",
       "lead_time                         0\n",
       "arrival_date_year                 0\n",
       "arrival_date_month                0\n",
       "arrival_date_week_number          0\n",
       "arrival_date_day_of_month         0\n",
       "stays_in_weekend_nights           0\n",
       "stays_in_week_nights              0\n",
       "adults                            0\n",
       "children                          0\n",
       "babies                            0\n",
       "meal                              0\n",
       "country                           0\n",
       "market_segment                    0\n",
       "distribution_channel              0\n",
       "is_repeated_guest                 0\n",
       "previous_cancellations            0\n",
       "previous_bookings_not_canceled    0\n",
       "reserved_room_type                0\n",
       "assigned_room_type                0\n",
       "booking_changes                   0\n",
       "deposit_type                      0\n",
       "days_in_waiting_list              0\n",
       "customer_type                     0\n",
       "adr                               0\n",
       "required_car_parking_spaces       0\n",
       "total_of_special_requests         0\n",
       "reservation_status                0\n",
       "reservation_status_date           0\n",
       "dtype: int64"
      ]
     },
     "execution_count": 24,
     "metadata": {},
     "output_type": "execute_result"
    }
   ],
   "source": [
    "# dropping remaining NAs from the dataset\n",
    "data.dropna(inplace=True)\n",
    "data.isnull().sum()"
   ]
  },
  {
   "cell_type": "code",
   "execution_count": 25,
   "metadata": {},
   "outputs": [
    {
     "data": {
      "text/plain": [
       "(116038, 30)"
      ]
     },
     "execution_count": 25,
     "metadata": {},
     "output_type": "execute_result"
    }
   ],
   "source": [
    "data.shape"
   ]
  },
  {
   "cell_type": "markdown",
   "metadata": {},
   "source": [
    "We have solved the missing data issues, the data does not contain any missing data anymore, and the data shape has changed. Before it has 116513 rows and 32 columns but now it has 116038 rows and 30 columns."
   ]
  },
  {
   "cell_type": "markdown",
   "metadata": {},
   "source": [
    "**c) Clean Duplicate Data**\n",
    "\n",
    "After solving missing values issue, let's remove duplicates from the dataset, from the duplicates analysis done above, the dataset contains 31984 duplicated rows."
   ]
  },
  {
   "cell_type": "code",
   "execution_count": 26,
   "metadata": {},
   "outputs": [
    {
     "name": "stdout",
     "output_type": "stream",
     "text": [
      "(84258, 30)\n"
     ]
    }
   ],
   "source": [
    "data.drop_duplicates(inplace=True)\n",
    "print(data.shape)"
   ]
  },
  {
   "cell_type": "markdown",
   "metadata": {},
   "source": [
    "The duplicate issue is also resolved, and the shape of the dataset has changed again. The dataset now has 84258 rows and 30 columns."
   ]
  },
  {
   "cell_type": "markdown",
   "metadata": {},
   "source": [
    "**d) Irrelevants Columns and Data Type**\n",
    "\n",
    "Let's check if each column has the appropriate data type, and also columns that are irrelevants. "
   ]
  },
  {
   "cell_type": "code",
   "execution_count": 27,
   "metadata": {},
   "outputs": [
    {
     "name": "stdout",
     "output_type": "stream",
     "text": [
      "<class 'pandas.core.frame.DataFrame'>\n",
      "Int64Index: 84258 entries, 0 to 119389\n",
      "Data columns (total 30 columns):\n",
      " #   Column                          Non-Null Count  Dtype  \n",
      "---  ------                          --------------  -----  \n",
      " 0   hotel                           84258 non-null  object \n",
      " 1   is_canceled                     84258 non-null  int64  \n",
      " 2   lead_time                       84258 non-null  int64  \n",
      " 3   arrival_date_year               84258 non-null  int64  \n",
      " 4   arrival_date_month              84258 non-null  object \n",
      " 5   arrival_date_week_number        84258 non-null  int64  \n",
      " 6   arrival_date_day_of_month       84258 non-null  int64  \n",
      " 7   stays_in_weekend_nights         84258 non-null  int64  \n",
      " 8   stays_in_week_nights            84258 non-null  int64  \n",
      " 9   adults                          84258 non-null  int64  \n",
      " 10  children                        84258 non-null  float64\n",
      " 11  babies                          84258 non-null  int64  \n",
      " 12  meal                            84258 non-null  object \n",
      " 13  country                         84258 non-null  object \n",
      " 14  market_segment                  84258 non-null  object \n",
      " 15  distribution_channel            84258 non-null  object \n",
      " 16  is_repeated_guest               84258 non-null  int64  \n",
      " 17  previous_cancellations          84258 non-null  int64  \n",
      " 18  previous_bookings_not_canceled  84258 non-null  int64  \n",
      " 19  reserved_room_type              84258 non-null  object \n",
      " 20  assigned_room_type              84258 non-null  object \n",
      " 21  booking_changes                 84258 non-null  int64  \n",
      " 22  deposit_type                    84258 non-null  object \n",
      " 23  days_in_waiting_list            84258 non-null  int64  \n",
      " 24  customer_type                   84258 non-null  object \n",
      " 25  adr                             84258 non-null  float64\n",
      " 26  required_car_parking_spaces     84258 non-null  int64  \n",
      " 27  total_of_special_requests       84258 non-null  int64  \n",
      " 28  reservation_status              84258 non-null  object \n",
      " 29  reservation_status_date         84258 non-null  object \n",
      "dtypes: float64(2), int64(16), object(12)\n",
      "memory usage: 19.9+ MB\n"
     ]
    }
   ],
   "source": [
    "data.info()"
   ]
  },
  {
   "cell_type": "markdown",
   "metadata": {},
   "source": [
    "Starting with the irrelevant columns, arrival_date_week_number does not seem wo relevant since we have arrival_date_year, arrival_date_month, arrival_date_day_of_month columns we can use as date. So let's delete it."
   ]
  },
  {
   "cell_type": "code",
   "execution_count": 28,
   "metadata": {},
   "outputs": [
    {
     "data": {
      "text/plain": [
       "(84258, 29)"
      ]
     },
     "execution_count": 28,
     "metadata": {},
     "output_type": "execute_result"
    }
   ],
   "source": [
    "data.drop('arrival_date_week_number',axis='columns', inplace=True)\n",
    "data.shape"
   ]
  },
  {
   "cell_type": "markdown",
   "metadata": {},
   "source": [
    " Now concerning the colomns datatypes, they are correct but lets combine arrival_date_year, arrival_date_month, arrival_date_day_of_month columns as one and make it date."
   ]
  },
  {
   "cell_type": "code",
   "execution_count": 29,
   "metadata": {},
   "outputs": [
    {
     "data": {
      "text/plain": [
       "(84258, 30)"
      ]
     },
     "execution_count": 29,
     "metadata": {},
     "output_type": "execute_result"
    }
   ],
   "source": [
    "# creating the new column\n",
    "data[\"arrival_date\"] = data[\"arrival_date_day_of_month\"].astype(str)+' '+data[\"arrival_date_month\"]+' '+data[\"arrival_date_year\"].astype(str)\n",
    "data.shape"
   ]
  },
  {
   "cell_type": "code",
   "execution_count": 30,
   "metadata": {},
   "outputs": [
    {
     "data": {
      "text/plain": [
       "Index(['hotel', 'is_canceled', 'lead_time', 'arrival_date_year',\n",
       "       'arrival_date_month', 'arrival_date_day_of_month',\n",
       "       'stays_in_weekend_nights', 'stays_in_week_nights', 'adults', 'children',\n",
       "       'babies', 'meal', 'country', 'market_segment', 'distribution_channel',\n",
       "       'is_repeated_guest', 'previous_cancellations',\n",
       "       'previous_bookings_not_canceled', 'reserved_room_type',\n",
       "       'assigned_room_type', 'booking_changes', 'deposit_type',\n",
       "       'days_in_waiting_list', 'customer_type', 'adr',\n",
       "       'required_car_parking_spaces', 'total_of_special_requests',\n",
       "       'reservation_status', 'reservation_status_date', 'arrival_date'],\n",
       "      dtype='object')"
      ]
     },
     "execution_count": 30,
     "metadata": {},
     "output_type": "execute_result"
    }
   ],
   "source": [
    "data.columns"
   ]
  },
  {
   "cell_type": "code",
   "execution_count": 31,
   "metadata": {},
   "outputs": [
    {
     "name": "stdout",
     "output_type": "stream",
     "text": [
      "(84258, 27)\n"
     ]
    },
    {
     "data": {
      "text/html": [
       "<div>\n",
       "<style scoped>\n",
       "    .dataframe tbody tr th:only-of-type {\n",
       "        vertical-align: middle;\n",
       "    }\n",
       "\n",
       "    .dataframe tbody tr th {\n",
       "        vertical-align: top;\n",
       "    }\n",
       "\n",
       "    .dataframe thead th {\n",
       "        text-align: right;\n",
       "    }\n",
       "</style>\n",
       "<table border=\"1\" class=\"dataframe\">\n",
       "  <thead>\n",
       "    <tr style=\"text-align: right;\">\n",
       "      <th></th>\n",
       "      <th>hotel</th>\n",
       "      <th>is_canceled</th>\n",
       "      <th>lead_time</th>\n",
       "      <th>arrival_date</th>\n",
       "      <th>stays_in_weekend_nights</th>\n",
       "      <th>stays_in_week_nights</th>\n",
       "      <th>adults</th>\n",
       "      <th>children</th>\n",
       "      <th>babies</th>\n",
       "      <th>meal</th>\n",
       "      <th>...</th>\n",
       "      <th>assigned_room_type</th>\n",
       "      <th>booking_changes</th>\n",
       "      <th>deposit_type</th>\n",
       "      <th>days_in_waiting_list</th>\n",
       "      <th>customer_type</th>\n",
       "      <th>adr</th>\n",
       "      <th>required_car_parking_spaces</th>\n",
       "      <th>total_of_special_requests</th>\n",
       "      <th>reservation_status</th>\n",
       "      <th>reservation_status_date</th>\n",
       "    </tr>\n",
       "  </thead>\n",
       "  <tbody>\n",
       "    <tr>\n",
       "      <th>0</th>\n",
       "      <td>Resort Hotel</td>\n",
       "      <td>0</td>\n",
       "      <td>342</td>\n",
       "      <td>2015-07-01</td>\n",
       "      <td>0</td>\n",
       "      <td>0</td>\n",
       "      <td>2</td>\n",
       "      <td>0.0</td>\n",
       "      <td>0</td>\n",
       "      <td>BB</td>\n",
       "      <td>...</td>\n",
       "      <td>C</td>\n",
       "      <td>3</td>\n",
       "      <td>No Deposit</td>\n",
       "      <td>0</td>\n",
       "      <td>Transient</td>\n",
       "      <td>0.0</td>\n",
       "      <td>0</td>\n",
       "      <td>0</td>\n",
       "      <td>Check-Out</td>\n",
       "      <td>2015-07-01</td>\n",
       "    </tr>\n",
       "    <tr>\n",
       "      <th>1</th>\n",
       "      <td>Resort Hotel</td>\n",
       "      <td>0</td>\n",
       "      <td>737</td>\n",
       "      <td>2015-07-01</td>\n",
       "      <td>0</td>\n",
       "      <td>0</td>\n",
       "      <td>2</td>\n",
       "      <td>0.0</td>\n",
       "      <td>0</td>\n",
       "      <td>BB</td>\n",
       "      <td>...</td>\n",
       "      <td>C</td>\n",
       "      <td>4</td>\n",
       "      <td>No Deposit</td>\n",
       "      <td>0</td>\n",
       "      <td>Transient</td>\n",
       "      <td>0.0</td>\n",
       "      <td>0</td>\n",
       "      <td>0</td>\n",
       "      <td>Check-Out</td>\n",
       "      <td>2015-07-01</td>\n",
       "    </tr>\n",
       "    <tr>\n",
       "      <th>2</th>\n",
       "      <td>Resort Hotel</td>\n",
       "      <td>0</td>\n",
       "      <td>7</td>\n",
       "      <td>2015-07-01</td>\n",
       "      <td>0</td>\n",
       "      <td>1</td>\n",
       "      <td>1</td>\n",
       "      <td>0.0</td>\n",
       "      <td>0</td>\n",
       "      <td>BB</td>\n",
       "      <td>...</td>\n",
       "      <td>C</td>\n",
       "      <td>0</td>\n",
       "      <td>No Deposit</td>\n",
       "      <td>0</td>\n",
       "      <td>Transient</td>\n",
       "      <td>75.0</td>\n",
       "      <td>0</td>\n",
       "      <td>0</td>\n",
       "      <td>Check-Out</td>\n",
       "      <td>2015-07-02</td>\n",
       "    </tr>\n",
       "    <tr>\n",
       "      <th>3</th>\n",
       "      <td>Resort Hotel</td>\n",
       "      <td>0</td>\n",
       "      <td>13</td>\n",
       "      <td>2015-07-01</td>\n",
       "      <td>0</td>\n",
       "      <td>1</td>\n",
       "      <td>1</td>\n",
       "      <td>0.0</td>\n",
       "      <td>0</td>\n",
       "      <td>BB</td>\n",
       "      <td>...</td>\n",
       "      <td>A</td>\n",
       "      <td>0</td>\n",
       "      <td>No Deposit</td>\n",
       "      <td>0</td>\n",
       "      <td>Transient</td>\n",
       "      <td>75.0</td>\n",
       "      <td>0</td>\n",
       "      <td>0</td>\n",
       "      <td>Check-Out</td>\n",
       "      <td>2015-07-02</td>\n",
       "    </tr>\n",
       "    <tr>\n",
       "      <th>4</th>\n",
       "      <td>Resort Hotel</td>\n",
       "      <td>0</td>\n",
       "      <td>14</td>\n",
       "      <td>2015-07-01</td>\n",
       "      <td>0</td>\n",
       "      <td>2</td>\n",
       "      <td>2</td>\n",
       "      <td>0.0</td>\n",
       "      <td>0</td>\n",
       "      <td>BB</td>\n",
       "      <td>...</td>\n",
       "      <td>A</td>\n",
       "      <td>0</td>\n",
       "      <td>No Deposit</td>\n",
       "      <td>0</td>\n",
       "      <td>Transient</td>\n",
       "      <td>98.0</td>\n",
       "      <td>0</td>\n",
       "      <td>1</td>\n",
       "      <td>Check-Out</td>\n",
       "      <td>2015-07-03</td>\n",
       "    </tr>\n",
       "  </tbody>\n",
       "</table>\n",
       "<p>5 rows × 27 columns</p>\n",
       "</div>"
      ],
      "text/plain": [
       "          hotel  is_canceled  lead_time arrival_date  stays_in_weekend_nights  \\\n",
       "0  Resort Hotel            0        342   2015-07-01                        0   \n",
       "1  Resort Hotel            0        737   2015-07-01                        0   \n",
       "2  Resort Hotel            0          7   2015-07-01                        0   \n",
       "3  Resort Hotel            0         13   2015-07-01                        0   \n",
       "4  Resort Hotel            0         14   2015-07-01                        0   \n",
       "\n",
       "   stays_in_week_nights  adults  children  babies meal  ...  \\\n",
       "0                     0       2       0.0       0   BB  ...   \n",
       "1                     0       2       0.0       0   BB  ...   \n",
       "2                     1       1       0.0       0   BB  ...   \n",
       "3                     1       1       0.0       0   BB  ...   \n",
       "4                     2       2       0.0       0   BB  ...   \n",
       "\n",
       "  assigned_room_type booking_changes deposit_type  days_in_waiting_list  \\\n",
       "0                  C               3   No Deposit                     0   \n",
       "1                  C               4   No Deposit                     0   \n",
       "2                  C               0   No Deposit                     0   \n",
       "3                  A               0   No Deposit                     0   \n",
       "4                  A               0   No Deposit                     0   \n",
       "\n",
       "   customer_type   adr required_car_parking_spaces total_of_special_requests  \\\n",
       "0      Transient   0.0                           0                         0   \n",
       "1      Transient   0.0                           0                         0   \n",
       "2      Transient  75.0                           0                         0   \n",
       "3      Transient  75.0                           0                         0   \n",
       "4      Transient  98.0                           0                         1   \n",
       "\n",
       "   reservation_status reservation_status_date  \n",
       "0           Check-Out              2015-07-01  \n",
       "1           Check-Out              2015-07-01  \n",
       "2           Check-Out              2015-07-02  \n",
       "3           Check-Out              2015-07-02  \n",
       "4           Check-Out              2015-07-03  \n",
       "\n",
       "[5 rows x 27 columns]"
      ]
     },
     "execution_count": 31,
     "metadata": {},
     "output_type": "execute_result"
    }
   ],
   "source": [
    "#Let's delete the three columns and convert the new one to date.\n",
    "#data.drop(['arrival_date_day_of_month','arrival_date_month','arrival_date_year'],axis='columns', inplace=True)\n",
    "data[\"arrival_date\"] = pd.to_datetime(data[\"arrival_date\"])\n",
    "data=data[['hotel', 'is_canceled','lead_time', 'arrival_date',\n",
    "       'stays_in_weekend_nights', 'stays_in_week_nights', 'adults', 'children',\n",
    "       'babies', 'meal', 'country', 'market_segment', 'distribution_channel',\n",
    "       'is_repeated_guest', 'previous_cancellations',\n",
    "       'previous_bookings_not_canceled', 'reserved_room_type',\n",
    "       'assigned_room_type', 'booking_changes', 'deposit_type',\n",
    "       'days_in_waiting_list', 'customer_type', 'adr',\n",
    "       'required_car_parking_spaces', 'total_of_special_requests',\n",
    "       'reservation_status', 'reservation_status_date']]\n",
    "#Change the new column position\n",
    "print(data.shape)\n",
    "data.head(5)"
   ]
  },
  {
   "cell_type": "code",
   "execution_count": 32,
   "metadata": {},
   "outputs": [],
   "source": [
    "day = data[\"arrival_date\"].dt.day\n",
    "month = data[\"arrival_date\"].dt.month\n",
    "year = data[\"arrival_date\"].dt.year"
   ]
  },
  {
   "cell_type": "markdown",
   "metadata": {},
   "source": [
    "Let's plot the distribution of days, month and years to make sure the parsing dates worked. "
   ]
  },
  {
   "cell_type": "code",
   "execution_count": 33,
   "metadata": {},
   "outputs": [
    {
     "data": {
      "text/plain": [
       "<matplotlib.axes._subplots.AxesSubplot at 0x14b6f31e700>"
      ]
     },
     "execution_count": 33,
     "metadata": {},
     "output_type": "execute_result"
    },
    {
     "data": {
      "image/png": "[encoded data removed]",
      "text/plain": [
       "<Figure size 432x288 with 1 Axes>"
      ]
     },
     "metadata": {
      "needs_background": "light"
     },
     "output_type": "display_data"
    }
   ],
   "source": [
    "#days distribution\n",
    "sn.histplot(day, kde=False, bins=31, element=\"step\")"
   ]
  },
  {
   "cell_type": "code",
   "execution_count": 34,
   "metadata": {},
   "outputs": [
    {
     "data": {
      "text/plain": [
       "<matplotlib.axes._subplots.AxesSubplot at 0x14b6d053ca0>"
      ]
     },
     "execution_count": 34,
     "metadata": {},
     "output_type": "execute_result"
    },
    {
     "data": {
      "image/png": "[encoded data removed]",
      "text/plain": [
       "<Figure size 432x288 with 1 Axes>"
      ]
     },
     "metadata": {
      "needs_background": "light"
     },
     "output_type": "display_data"
    }
   ],
   "source": [
    "sn.histplot(month, kde=False, bins=12, element=\"step\")"
   ]
  },
  {
   "cell_type": "code",
   "execution_count": 35,
   "metadata": {},
   "outputs": [
    {
     "data": {
      "text/plain": [
       "<matplotlib.axes._subplots.AxesSubplot at 0x14b6e7ec340>"
      ]
     },
     "execution_count": 35,
     "metadata": {},
     "output_type": "execute_result"
    },
    {
     "data": {
      "image/png": "[encoded data removed]",
      "text/plain": [
       "<Figure size 432x288 with 1 Axes>"
      ]
     },
     "metadata": {
      "needs_background": "light"
     },
     "output_type": "display_data"
    }
   ],
   "source": [
    "sn.histplot(year, kde=False, bins=[2015,2016,2017], shrink=0.8, discrete=True, binwidth=1)"
   ]
  },
  {
   "cell_type": "markdown",
   "metadata": {},
   "source": [
    "From the above graphs, we can tell the parsing date worked well. We have completed the the second step which is scrubing the dirt. Let's move to the third step which is checking if the data is well cleaned. "
   ]
  },
  {
   "cell_type": "markdown",
   "metadata": {},
   "source": [
    "## 3) Rinse and Repeat 1 and 2\n",
    "\n",
    "**Checking Missing data, duplicate, unique data**"
   ]
  },
  {
   "cell_type": "code",
   "execution_count": 36,
   "metadata": {},
   "outputs": [
    {
     "data": {
      "text/plain": [
       "hotel                             False\n",
       "is_canceled                       False\n",
       "lead_time                         False\n",
       "arrival_date                      False\n",
       "stays_in_weekend_nights           False\n",
       "stays_in_week_nights              False\n",
       "adults                            False\n",
       "children                          False\n",
       "babies                            False\n",
       "meal                              False\n",
       "country                           False\n",
       "market_segment                    False\n",
       "distribution_channel              False\n",
       "is_repeated_guest                 False\n",
       "previous_cancellations            False\n",
       "previous_bookings_not_canceled    False\n",
       "reserved_room_type                False\n",
       "assigned_room_type                False\n",
       "booking_changes                   False\n",
       "deposit_type                      False\n",
       "days_in_waiting_list              False\n",
       "customer_type                     False\n",
       "adr                               False\n",
       "required_car_parking_spaces       False\n",
       "total_of_special_requests         False\n",
       "reservation_status                False\n",
       "reservation_status_date           False\n",
       "dtype: bool"
      ]
     },
     "execution_count": 36,
     "metadata": {},
     "output_type": "execute_result"
    }
   ],
   "source": [
    "data.isnull().all()"
   ]
  },
  {
   "cell_type": "code",
   "execution_count": 37,
   "metadata": {},
   "outputs": [
    {
     "data": {
      "text/plain": [
       "hotel                                2\n",
       "is_canceled                          2\n",
       "lead_time                          477\n",
       "arrival_date                       793\n",
       "stays_in_weekend_nights             15\n",
       "stays_in_week_nights                32\n",
       "adults                              14\n",
       "children                             5\n",
       "babies                               5\n",
       "meal                                 5\n",
       "country                            176\n",
       "market_segment                       8\n",
       "distribution_channel                 5\n",
       "is_repeated_guest                    2\n",
       "previous_cancellations              15\n",
       "previous_bookings_not_canceled      73\n",
       "reserved_room_type                  10\n",
       "assigned_room_type                  12\n",
       "booking_changes                     20\n",
       "deposit_type                         3\n",
       "days_in_waiting_list               128\n",
       "customer_type                        4\n",
       "adr                               8673\n",
       "required_car_parking_spaces          5\n",
       "total_of_special_requests            3\n",
       "reservation_status                   3\n",
       "reservation_status_date            924\n",
       "dtype: int64"
      ]
     },
     "execution_count": 37,
     "metadata": {},
     "output_type": "execute_result"
    }
   ],
   "source": [
    "data.nunique()"
   ]
  },
  {
   "cell_type": "code",
   "execution_count": 38,
   "metadata": {},
   "outputs": [
    {
     "data": {
      "text/plain": [
       "False"
      ]
     },
     "execution_count": 38,
     "metadata": {},
     "output_type": "execute_result"
    }
   ],
   "source": [
    "data.duplicated().all()"
   ]
  },
  {
   "cell_type": "markdown",
   "metadata": {},
   "source": [
    "The data does not contain dirt anymore, let's save it !!!"
   ]
  },
  {
   "cell_type": "code",
   "execution_count": 39,
   "metadata": {},
   "outputs": [],
   "source": [
    "data.to_csv('final_data.csv')"
   ]
  },
  {
   "cell_type": "markdown",
   "metadata": {},
   "source": [
    "## 4) Conclusion\n",
    "\n",
    "In this mini project, we have performed data cleaning, by first detcting the dirt, cleaning them and checking it back. The data is now ready for any further analysis."
   ]
  },
  {
   "cell_type": "code",
   "execution_count": null,
   "metadata": {},
   "outputs": [],
   "source": []
  },
  {
   "cell_type": "code",
   "execution_count": null,
   "metadata": {},
   "outputs": [],
   "source": []
  }
 ],
 "metadata": {
  "kernelspec": {
   "display_name": "Python 3",
   "language": "python",
   "name": "python3"
  },
  "language_info": {
   "codemirror_mode": {
    "name": "ipython",
    "version": 3
   },
   "file_extension": ".py",
   "mimetype": "text/x-python",
   "name": "python",
   "nbconvert_exporter": "python",
   "pygments_lexer": "ipython3",
   "version": "3.8.3"
  }
 },
 "nbformat": 4,
 "nbformat_minor": 4
}
